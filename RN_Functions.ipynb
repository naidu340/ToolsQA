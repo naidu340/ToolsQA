{
  "nbformat": 4,
  "nbformat_minor": 0,
  "metadata": {
    "colab": {
      "name": "RN_Functions.ipynb",
      "provenance": [],
      "authorship_tag": "ABX9TyOxrSZGkPeptdvbuhlVbl7l",
      "include_colab_link": true
    },
    "kernelspec": {
      "name": "python3",
      "display_name": "Python 3"
    },
    "language_info": {
      "name": "python"
    }
  },
  "cells": [
    {
      "cell_type": "markdown",
      "metadata": {
        "id": "view-in-github",
        "colab_type": "text"
      },
      "source": [
        "<a href=\"https://colab.research.google.com/github/naidu340/ToolsQA/blob/master/RN_Functions.ipynb\" target=\"_parent\"><img src=\"https://colab.research.google.com/assets/colab-badge.svg\" alt=\"Open In Colab\"/></a>"
      ]
    },
    {
      "cell_type": "code",
      "metadata": {
        "id": "cgrZrwdcdwjg"
      },
      "source": [
        "# Function decleration\n",
        "\n",
        "def Helloworld(name):\n",
        "  \"\"\"\n",
        "  This function takes the argument and embed it to the welcome \n",
        "  \"\"\"\n",
        "  return 'Welcome to python function :' + name"
      ],
      "execution_count": null,
      "outputs": []
    },
    {
      "cell_type": "code",
      "metadata": {
        "colab": {
          "base_uri": "https://localhost:8080/",
          "height": 35
        },
        "id": "F54g5gEweObt",
        "outputId": "35b113f5-3cec-409e-9bb9-23a961823389"
      },
      "source": [
        "Helloworld('Ramanaidu')"
      ],
      "execution_count": null,
      "outputs": [
        {
          "output_type": "execute_result",
          "data": {
            "application/vnd.google.colaboratory.intrinsic+json": {
              "type": "string"
            },
            "text/plain": [
              "'Welcome to python function :Ramanaidu'"
            ]
          },
          "metadata": {
            "tags": []
          },
          "execution_count": 11
        }
      ]
    },
    {
      "cell_type": "code",
      "metadata": {
        "id": "me2430cIiWCJ"
      },
      "source": [
        "# return value\n",
        "\n",
        "def sumOfNumbers(numbers):\n",
        "  \"\"\"\n",
        "  It returns the sum of all numbers in a list\n",
        "  \"\"\"\n",
        "  sum = 0\n",
        "  for num in numbers:\n",
        "    sum += num\n",
        "  return sum"
      ],
      "execution_count": null,
      "outputs": []
    },
    {
      "cell_type": "code",
      "metadata": {
        "colab": {
          "base_uri": "https://localhost:8080/"
        },
        "id": "d_1Zd2R_kNwd",
        "outputId": "f364fb88-5e22-4e73-8570-e6786981d995"
      },
      "source": [
        "print(sumOfNumbers.__doc__)\n",
        "sumOfNumbers([2,4,6])\n",
        "\n"
      ],
      "execution_count": null,
      "outputs": [
        {
          "output_type": "stream",
          "text": [
            "\n",
            "  It returns the sum of all numbers in a list\n",
            "  \n"
          ],
          "name": "stdout"
        },
        {
          "output_type": "execute_result",
          "data": {
            "text/plain": [
              "12"
            ]
          },
          "metadata": {
            "tags": []
          },
          "execution_count": 25
        }
      ]
    },
    {
      "cell_type": "code",
      "metadata": {
        "id": "vipvScvrkRWP"
      },
      "source": [
        ""
      ],
      "execution_count": null,
      "outputs": []
    }
  ]
}